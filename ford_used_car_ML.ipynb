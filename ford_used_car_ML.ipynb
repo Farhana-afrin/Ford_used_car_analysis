{
 "cells": [
  {
   "cell_type": "markdown",
   "id": "8e71bc88",
   "metadata": {},
   "source": [
    "### Import Libraries"
   ]
  },
  {
   "cell_type": "code",
   "execution_count": 44,
   "id": "d369cd5e",
   "metadata": {},
   "outputs": [],
   "source": [
    "import pandas as pd\n",
    "import numpy as np\n",
    "\n",
    "from sklearn.model_selection import train_test_split\n",
    "from sklearn.linear_model import LinearRegression\n",
    "from sklearn.metrics import mean_squared_error, mean_absolute_error, mean_absolute_percentage_error, r2_score\n"
   ]
  },
  {
   "cell_type": "markdown",
   "id": "a6e21302",
   "metadata": {},
   "source": [
    "### (A) Loading Dataset"
   ]
  },
  {
   "cell_type": "code",
   "execution_count": 45,
   "id": "21bae94e",
   "metadata": {},
   "outputs": [
    {
     "name": "stdout",
     "output_type": "stream",
     "text": [
      "     model  year  price transmission  mileage fuelType   mpg  engineSize\n",
      "0   Fiesta  2017  12000    Automatic    15944   Petrol  57.7         1.0\n",
      "1    Focus  2018  14000       Manual     9083   Petrol  57.7         1.0\n",
      "2    Focus  2017  13000       Manual    12456   Petrol  57.7         1.0\n",
      "3   Fiesta  2019  17500       Manual    10460   Petrol  40.3         1.5\n",
      "4   Fiesta  2019  16500    Automatic     1482   Petrol  48.7         1.0\n",
      "<class 'pandas.core.frame.DataFrame'>\n",
      "RangeIndex: 17964 entries, 0 to 17963\n",
      "Data columns (total 8 columns):\n",
      " #   Column        Non-Null Count  Dtype  \n",
      "---  ------        --------------  -----  \n",
      " 0   model         17964 non-null  object \n",
      " 1   year          17964 non-null  int64  \n",
      " 2   price         17964 non-null  int64  \n",
      " 3   transmission  17964 non-null  object \n",
      " 4   mileage       17964 non-null  int64  \n",
      " 5   fuelType      17964 non-null  object \n",
      " 6   mpg           17964 non-null  float64\n",
      " 7   engineSize    17964 non-null  float64\n",
      "dtypes: float64(2), int64(3), object(3)\n",
      "memory usage: 1.1+ MB\n",
      "None\n"
     ]
    }
   ],
   "source": [
    "df = pd.read_csv('ford.csv')\n",
    "print(df.head())\n",
    "print(df.info())"
   ]
  },
  {
   "cell_type": "code",
   "execution_count": 46,
   "id": "dad7f2f8",
   "metadata": {},
   "outputs": [
    {
     "name": "stdout",
     "output_type": "stream",
     "text": [
      "               year         price        mileage           mpg    engineSize\n",
      "count  17964.000000  17964.000000   17964.000000  17964.000000  17964.000000\n",
      "mean    2016.864173  12280.078435   23361.880149     57.907832      1.350824\n",
      "std        2.024987   4741.318119   19471.243292     10.125632      0.432383\n",
      "min     1996.000000    495.000000       1.000000     20.800000      0.000000\n",
      "25%     2016.000000   8999.000000    9987.000000     52.300000      1.000000\n",
      "50%     2017.000000  11291.000000   18242.500000     58.900000      1.200000\n",
      "75%     2018.000000  15299.000000   31052.000000     65.700000      1.500000\n",
      "max     2020.000000  54995.000000  177644.000000    201.800000      5.000000\n"
     ]
    }
   ],
   "source": [
    "print(df.describe())"
   ]
  },
  {
   "cell_type": "markdown",
   "id": "b50a8d02",
   "metadata": {},
   "source": [
    "### (B) Separating the numeric features and target variable"
   ]
  },
  {
   "cell_type": "code",
   "execution_count": 47,
   "id": "0ec53c5e",
   "metadata": {},
   "outputs": [
    {
     "name": "stdout",
     "output_type": "stream",
     "text": [
      "shape of X =  (17964, 4) \n",
      "shape of Y =  (17964, 1)\n"
     ]
    }
   ],
   "source": [
    "features = ['year','mileage','mpg','engineSize']\n",
    "target = ['price']\n",
    "X = df[features]\n",
    "Y = df [target]\n",
    "print('shape of X = ', X.shape , '\\nshape of Y = ', Y.shape)"
   ]
  },
  {
   "cell_type": "markdown",
   "id": "8f1277b9",
   "metadata": {},
   "source": [
    "### (C) Split the original dataset into the train set (80%) and the test set (20%)"
   ]
  },
  {
   "cell_type": "code",
   "execution_count": 48,
   "id": "8be2f317",
   "metadata": {},
   "outputs": [
    {
     "name": "stdout",
     "output_type": "stream",
     "text": [
      "(14371, 4) (3593, 4) (14371, 1) (3593, 1)\n"
     ]
    }
   ],
   "source": [
    "X_train, X_test, Y_train, Y_test = train_test_split(X, Y, test_size = 0.2, random_state = 13)\n",
    "print(X_train.shape, X_test.shape, Y_train.shape, Y_test.shape)"
   ]
  },
  {
   "cell_type": "markdown",
   "id": "96ec4d9f",
   "metadata": {},
   "source": [
    "### (D) Perform Linear Regression and Predict the 'Price' from the test set"
   ]
  },
  {
   "cell_type": "code",
   "execution_count": 49,
   "id": "adf8c9e2",
   "metadata": {},
   "outputs": [
    {
     "name": "stdout",
     "output_type": "stream",
     "text": [
      "intercept =  [-2621611.14946318] \n",
      "coefficients =  [[ 1.30546764e+03 -5.12279548e-02 -8.69539675e+01  5.30526307e+03]]\n"
     ]
    }
   ],
   "source": [
    "model = LinearRegression()\n",
    "model = model.fit(X_train, Y_train)\n",
    "\n",
    "print( 'intercept = ', model.intercept_, '\\ncoefficients = ', model.coef_)"
   ]
  },
  {
   "cell_type": "markdown",
   "id": "00da469b",
   "metadata": {},
   "source": [
    "### Prediction"
   ]
  },
  {
   "cell_type": "code",
   "execution_count": 50,
   "id": "dac75e08",
   "metadata": {},
   "outputs": [
    {
     "name": "stdout",
     "output_type": "stream",
     "text": [
      "[[12606.65131439]\n",
      " [15093.53607394]\n",
      " [12699.88607429]\n",
      " ...\n",
      " [15417.00766717]\n",
      " [14736.2271355 ]\n",
      " [ 7114.56553147]]\n"
     ]
    }
   ],
   "source": [
    "Y_pred = model.predict(X_test)\n",
    "print(Y_pred)"
   ]
  },
  {
   "cell_type": "markdown",
   "id": "b2234bfe",
   "metadata": {},
   "source": [
    "### (E) Find the RMSE, MAE, MAPE, MSE, and R squared KPIs from the actual test data and the predicted data"
   ]
  },
  {
   "cell_type": "code",
   "execution_count": 51,
   "id": "b97b8f9f",
   "metadata": {},
   "outputs": [
    {
     "name": "stdout",
     "output_type": "stream",
     "text": [
      "RMSE =  2513.4976844291205 \n",
      "MAE =  1792.2681729845815 \n",
      "MAPE = 0.17732865042083468 \n",
      "MSE = 6317670.609630549 \n",
      "R_squared =  0.7393574763804996\n"
     ]
    }
   ],
   "source": [
    "RMSE = mean_squared_error(Y_test,Y_pred, squared = False)\n",
    "MAE = mean_absolute_error(Y_test, Y_pred)\n",
    "MAPE = mean_absolute_percentage_error(Y_test, Y_pred)\n",
    "MSE = mean_squared_error(Y_test, Y_pred, squared = True)\n",
    "R_squared = r2_score(Y_test, Y_pred)\n",
    "\n",
    "print('RMSE = ', RMSE, '\\nMAE = ',MAE, '\\nMAPE =', MAPE, '\\nMSE =', MSE, '\\nR_squared = ', R_squared)"
   ]
  },
  {
   "cell_type": "code",
   "execution_count": null,
   "id": "ad52b0be",
   "metadata": {},
   "outputs": [],
   "source": []
  }
 ],
 "metadata": {
  "kernelspec": {
   "display_name": "Python 3 (ipykernel)",
   "language": "python",
   "name": "python3"
  },
  "language_info": {
   "codemirror_mode": {
    "name": "ipython",
    "version": 3
   },
   "file_extension": ".py",
   "mimetype": "text/x-python",
   "name": "python",
   "nbconvert_exporter": "python",
   "pygments_lexer": "ipython3",
   "version": "3.9.12"
  }
 },
 "nbformat": 4,
 "nbformat_minor": 5
}
